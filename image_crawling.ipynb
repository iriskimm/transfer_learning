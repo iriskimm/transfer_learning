{
 "cells": [
  {
   "cell_type": "markdown",
   "id": "7108a6f3",
   "metadata": {},
   "source": [
    "### 1. Create folders where the images will be saved to"
   ]
  },
  {
   "cell_type": "code",
   "execution_count": 1,
   "id": "0838dc18",
   "metadata": {},
   "outputs": [],
   "source": [
    "import os\n",
    "import shutil\n",
    "\n",
    "directory_list = [\n",
    "    './custom_dataset/train/',\n",
    "    './custom_dataset/test/',\n",
    "]\n",
    "\n",
    "# creating the directories\n",
    "for directory in directory_list:\n",
    "    if not os.path.isdir(directory):\n",
    "        os.makedirs(directory)"
   ]
  },
  {
   "cell_type": "markdown",
   "id": "42219a6f",
   "metadata": {},
   "source": [
    "### 2. Collecting images"
   ]
  },
  {
   "cell_type": "code",
   "execution_count": 2,
   "id": "b55d67c0",
   "metadata": {},
   "outputs": [
    {
     "name": "stdout",
     "output_type": "stream",
     "text": [
      "Requirement already satisfied: bing-image-downloader in /Users/iriskim/opt/anaconda3/lib/python3.9/site-packages (1.1.2)\n",
      "Note: you may need to restart the kernel to use updated packages.\n"
     ]
    }
   ],
   "source": [
    "pip install bing-image-downloader"
   ]
  },
  {
   "cell_type": "code",
   "execution_count": 3,
   "id": "758ec9ba",
   "metadata": {},
   "outputs": [],
   "source": [
    "# split the dataset into training and testing data\n",
    "def dataset_split(query, train_cnt):\n",
    "    for directory in directory_list:\n",
    "        if not os.path.isdir(directory + '/' + query):\n",
    "            os.makedirs(directory + '/' + query)\n",
    "\n",
    "    cnt = 0\n",
    "    for file_name in os.listdir(query):\n",
    "        if cnt < train_cnt:\n",
    "            print(f'[Train Dataset] {file_name}')\n",
    "            shutil.move(query + '/' + file_name, './custom_dataset/train/' + query + '/' + file_name)\n",
    "        else:\n",
    "            print(f'[Test Dataset] {file_name}')\n",
    "            shutil.move(query + '/' + file_name, './custom_dataset/test/' + query + '/' + file_name)\n",
    "        cnt += 1\n",
    "    shutil.rmtree(query)\n",
    "     "
   ]
  },
  {
   "cell_type": "code",
   "execution_count": 5,
   "id": "2378884b",
   "metadata": {},
   "outputs": [
    {
     "name": "stdout",
     "output_type": "stream",
     "text": [
      "[%] Downloading Images to /Users/iriskim/code/transfer_learning/custom_dataset/Yves Bissouma\n",
      "[Error]Invalid image, not saving https://e1.365dm.com/18/05/768x432/skysports-yves-bissouma-lille_4316861.jpg?20180521200251\n",
      "\n",
      "[!] Issue getting: https://e1.365dm.com/18/05/768x432/skysports-yves-bissouma-lille_4316861.jpg?20180521200251\n",
      "[!] Error:: Invalid image, not saving https://e1.365dm.com/18/05/768x432/skysports-yves-bissouma-lille_4316861.jpg?20180521200251\n",
      "\n",
      "[!] Issue getting: https://africanfootball.com/bp_images/2018/07/Yves_Bissouma.jpg\n",
      "[!] Error:: Remote end closed connection without response\n",
      "[!] Issue getting: https://www.101greatgoals.com/wp-content/uploads/2017/08/GettyImages-820887976-1024x683.jpg\n",
      "[!] Error:: HTTP Error 404: Not Found\n",
      "[Error]Invalid image, not saving http://e2.365dm.com/18/07/16-9/20/skysports-yves-bissouma-lille_4364640.jpg?20180717185757\n",
      "\n",
      "[!] Issue getting: http://e2.365dm.com/18/07/16-9/20/skysports-yves-bissouma-lille_4364640.jpg?20180717185757\n",
      "[!] Error:: Invalid image, not saving http://e2.365dm.com/18/07/16-9/20/skysports-yves-bissouma-lille_4364640.jpg?20180717185757\n",
      "\n",
      "[Error]Invalid image, not saving https://staticg.sportskeeda.com/editor/2020/12/eb9eb-16071615946078-800.jpg\n",
      "\n",
      "[!] Issue getting: https://staticg.sportskeeda.com/editor/2020/12/eb9eb-16071615946078-800.jpg\n",
      "[!] Error:: Invalid image, not saving https://staticg.sportskeeda.com/editor/2020/12/eb9eb-16071615946078-800.jpg\n",
      "\n",
      "[!] Issue getting: http://i2.wp.com/frenchfootballweekly.com/wp-content/uploads/2017/06/Bissouma-LOSC.png?resize=700%2C280\n",
      "[!] Error:: HTTP Error 400: Bad Request\n",
      "[Error]Invalid image, not saving https://staticg.sportskeeda.com/editor/2019/04/94090-15542717111626-800.jpg\n",
      "\n",
      "[!] Issue getting: https://staticg.sportskeeda.com/editor/2019/04/94090-15542717111626-800.jpg\n",
      "[!] Error:: Invalid image, not saving https://staticg.sportskeeda.com/editor/2019/04/94090-15542717111626-800.jpg\n",
      "\n",
      "[!] Issue getting: https://www.fussball.com/wp-content/uploads/2018/05/Yves-Bissouma.jpg\n",
      "[!] Error:: HTTP Error 403: Forbidden\n",
      "[!] Issue getting: https://zicoball.com/wp-content/uploads/2021/01/Yves-Bissouma-ZICOBALL-copy-2048x1152.jpg\n",
      "[!] Error:: Remote end closed connection without response\n",
      "[!] Issue getting: https://i1.wp.com/www.koptalk.com/wp-content/uploads/2020/12/Yves-Bissouma.jpg?resize=618%2C389\n",
      "[!] Error:: HTTP Error 404: Not Found\n",
      "[!] Issue getting: https://zicoball.com/wp-content/uploads/2021/01/Yves-Bissouma-ZICOBALL-copy-1536x864.jpg\n",
      "[!] Error:: Remote end closed connection without response\n",
      "[Error]Invalid image, not saving https://e0.365dm.com/18/07/1600x900/skysports-yves-bissouma-lille_4364640.jpg?20180717185757\n",
      "\n",
      "[!] Issue getting: https://e0.365dm.com/18/07/1600x900/skysports-yves-bissouma-lille_4364640.jpg?20180717185757\n",
      "[!] Error:: Invalid image, not saving https://e0.365dm.com/18/07/1600x900/skysports-yves-bissouma-lille_4364640.jpg?20180717185757\n",
      "\n",
      "[Error]Invalid image, not saving https://staticg.sportskeeda.com/editor/2020/06/e6723-15926696279712-800.jpg\n",
      "\n",
      "[!] Issue getting: https://staticg.sportskeeda.com/editor/2020/06/e6723-15926696279712-800.jpg\n",
      "[!] Error:: Invalid image, not saving https://staticg.sportskeeda.com/editor/2020/06/e6723-15926696279712-800.jpg\n",
      "\n",
      "[!] Issue getting: http://www.losc.fr/sites/default/files/styles/losc_style_default/public/node/joueur/BISSOUMA_Yves.png?itok=EDUAR3cT\n",
      "[!] Error:: HTTP Error 404: Not Found\n",
      "[Error]Invalid image, not saving https://e0.365dm.com/18/07/1600x900/skysports-yves-bissouma-lille_4364561.jpg?20180717174735\n",
      "\n",
      "[!] Issue getting: https://e0.365dm.com/18/07/1600x900/skysports-yves-bissouma-lille_4364561.jpg?20180717174735\n",
      "[!] Error:: Invalid image, not saving https://e0.365dm.com/18/07/1600x900/skysports-yves-bissouma-lille_4364561.jpg?20180717174735\n",
      "\n",
      "[!] Issue getting: https://sport-ivoire.ci/sites/default/files/actualites/bissouma 3.jpg.gallery.jpg\n",
      "[!] Error:: URL can't contain control characters. '/sites/default/files/actualites/bissouma 3.jpg.gallery.jpg' (found at least ' ')\n",
      "[Error]Invalid image, not saving http://images.newindianexpress.com/uploads/user/imagelibrary/2018/7/18/w900X450/Yves_Bissouma_Twitter.jpg\n",
      "\n",
      "[!] Issue getting: http://images.newindianexpress.com/uploads/user/imagelibrary/2018/7/18/w900X450/Yves_Bissouma_Twitter.jpg\n",
      "[!] Error:: Invalid image, not saving http://images.newindianexpress.com/uploads/user/imagelibrary/2018/7/18/w900X450/Yves_Bissouma_Twitter.jpg\n",
      "\n",
      "[Error]Invalid image, not saving https://resources.premierleague.com/photos/2020/09/24/4d6ae9bd-1c8a-4e0e-b195-112f1113cd12/Yves-Bissouma.jpg?width=1350\n",
      "\n",
      "[!] Issue getting: https://resources.premierleague.com/photos/2020/09/24/4d6ae9bd-1c8a-4e0e-b195-112f1113cd12/Yves-Bissouma.jpg?width=1350\n",
      "[!] Error:: Invalid image, not saving https://resources.premierleague.com/photos/2020/09/24/4d6ae9bd-1c8a-4e0e-b195-112f1113cd12/Yves-Bissouma.jpg?width=1350\n",
      "\n",
      "[Error]Invalid image, not saving https://plzsoccer.com/wp-content/uploads/2018/07/2.36476666-scaled.jpg\n",
      "\n",
      "[!] Issue getting: https://plzsoccer.com/wp-content/uploads/2018/07/2.36476666-scaled.jpg\n",
      "[!] Error:: Invalid image, not saving https://plzsoccer.com/wp-content/uploads/2018/07/2.36476666-scaled.jpg\n",
      "\n",
      "\n",
      "\n",
      "[%] Done. Downloaded 100 images.\n"
     ]
    }
   ],
   "source": [
    "from bing_image_downloader import downloader\n",
    "\n",
    "players = ['Hugo Lloris', 'Heung-Min Son', 'Richarlison', 'Harry Kane', 'Emerson Royal', 'Ivan Perisic', 'Eric Dier', 'Cristian Romero', 'Dejan Kulusevski', 'Rodrigo Bentancur', 'Clement Lenglet', 'Yves Bissouma']\n",
    "\n",
    "# for player in players: \n",
    "#     downloader.download(player, limit=100,  output_dir='custom_dataset', adult_filter_off=True, force_replace=False, timeout=60, verbose=False)"
   ]
  },
  {
   "cell_type": "code",
   "execution_count": null,
   "id": "445a48ab",
   "metadata": {},
   "outputs": [],
   "source": []
  }
 ],
 "metadata": {
  "kernelspec": {
   "display_name": "Python 3 (ipykernel)",
   "language": "python",
   "name": "python3"
  },
  "language_info": {
   "codemirror_mode": {
    "name": "ipython",
    "version": 3
   },
   "file_extension": ".py",
   "mimetype": "text/x-python",
   "name": "python",
   "nbconvert_exporter": "python",
   "pygments_lexer": "ipython3",
   "version": "3.9.12"
  }
 },
 "nbformat": 4,
 "nbformat_minor": 5
}
