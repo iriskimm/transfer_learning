{
 "cells": [
  {
   "cell_type": "markdown",
   "id": "7108a6f3",
   "metadata": {},
   "source": [
    "### 1. Create folders where the images will be saved to"
   ]
  },
  {
   "cell_type": "code",
   "execution_count": 1,
   "id": "0838dc18",
   "metadata": {},
   "outputs": [],
   "source": [
    "import os\n",
    "import shutil\n",
    "\n",
    "directory_list = [\n",
    "    './custom_dataset/train/',\n",
    "    './custom_dataset/test/',\n",
    "]\n",
    "\n",
    "# creating the directories\n",
    "for directory in directory_list:\n",
    "    if not os.path.isdir(directory):\n",
    "        os.makedirs(directory)"
   ]
  },
  {
   "cell_type": "markdown",
   "id": "42219a6f",
   "metadata": {},
   "source": [
    "### 2. Collecting the data"
   ]
  },
  {
   "cell_type": "code",
   "execution_count": 2,
   "id": "b55d67c0",
   "metadata": {},
   "outputs": [
    {
     "name": "stdout",
     "output_type": "stream",
     "text": [
      "Requirement already satisfied: bing-image-downloader in /Users/iriskim/opt/anaconda3/lib/python3.9/site-packages (1.1.2)\n",
      "Note: you may need to restart the kernel to use updated packages.\n"
     ]
    }
   ],
   "source": [
    "pip install bing-image-downloader"
   ]
  },
  {
   "cell_type": "code",
   "execution_count": 6,
   "id": "1217994a",
   "metadata": {},
   "outputs": [],
   "source": [
    "# a method to split the dataset into training and testing data\n",
    "def dataset_split(query, train_cnt):\n",
    "    for directory in directory_list:\n",
    "        if not os.path.isdir(directory + '/' + query):\n",
    "            os.makedirs(directory + '/' + query)\n",
    "\n",
    "    cnt = 0\n",
    "    for file_name in os.listdir(f'custom_dataset/{query}'):\n",
    "        if cnt < train_cnt:\n",
    "            shutil.move(f'custom_dataset/{query}/{file_name}', f'./custom_dataset/train/{query}/{file_name}')\n",
    "        else:\n",
    "            shutil.move(f'custom_dataset/{query}/{file_name}', f'./custom_dataset/test/{query}/{file_name}')\n",
    "        cnt += 1\n",
    "    shutil.rmtree(f'custom_dataset/{query}') "
   ]
  },
  {
   "cell_type": "code",
   "execution_count": 7,
   "id": "2378884b",
   "metadata": {},
   "outputs": [],
   "source": [
    "from bing_image_downloader import downloader\n",
    "\n",
    "players = ['Hugo Lloris', 'Heung-Min Son', 'Richarlison', 'Harry Kane', 'Emerson Royal', 'Ivan Perisic', 'Eric Dier', 'Cristian Romero', 'Dejan Kulusevski', 'Rodrigo Bentancur', 'Clement Lenglet', 'Yves Bissouma']\n",
    "\n",
    "for player in players: \n",
    "    downloader.download(player, limit=100,  output_dir='custom_dataset', adult_filter_off=True, force_replace=False, timeout=60, verbose=False)\n",
    "    dataset_split(player, 80)"
   ]
  }
 ],
 "metadata": {
  "kernelspec": {
   "display_name": "Python 3 (ipykernel)",
   "language": "python",
   "name": "python3"
  },
  "language_info": {
   "codemirror_mode": {
    "name": "ipython",
    "version": 3
   },
   "file_extension": ".py",
   "mimetype": "text/x-python",
   "name": "python",
   "nbconvert_exporter": "python",
   "pygments_lexer": "ipython3",
   "version": "3.9.12"
  }
 },
 "nbformat": 4,
 "nbformat_minor": 5
}
